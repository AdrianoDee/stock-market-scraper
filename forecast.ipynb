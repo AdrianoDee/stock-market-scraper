{
 "cells": [
  {
   "cell_type": "code",
   "execution_count": 1,
   "metadata": {},
   "outputs": [],
   "source": [
    "import pandas as pd"
   ]
  },
  {
   "cell_type": "code",
   "execution_count": 4,
   "metadata": {},
   "outputs": [],
   "source": [
    "import os.path"
   ]
  },
  {
   "cell_type": "code",
   "execution_count": 142,
   "metadata": {},
   "outputs": [],
   "source": [
    "import numpy as np"
   ]
  },
  {
   "cell_type": "code",
   "execution_count": 5,
   "metadata": {},
   "outputs": [],
   "source": [
    "import os"
   ]
  },
  {
   "cell_type": "code",
   "execution_count": 109,
   "metadata": {},
   "outputs": [],
   "source": [
    "import time\n",
    "import datetime"
   ]
  },
  {
   "cell_type": "code",
   "execution_count": 92,
   "metadata": {},
   "outputs": [],
   "source": [
    "import matplotlib.pyplot as plt"
   ]
  },
  {
   "cell_type": "code",
   "execution_count": 105,
   "metadata": {},
   "outputs": [],
   "source": [
    "from tqdm.notebook import tqdm"
   ]
  },
  {
   "cell_type": "code",
   "execution_count": 119,
   "metadata": {},
   "outputs": [],
   "source": [
    "def unixdate(x):\n",
    "    return time.mktime(datetime.datetime.strptime(x, \"%d-%m-%Y\").timetuple())"
   ]
  },
  {
   "cell_type": "code",
   "execution_count": 150,
   "metadata": {},
   "outputs": [],
   "source": [
    "def normaldate(x):\n",
    "    return datetime.datetime.utcfromtimestamp(x).strftime('%d-%m-%Y')"
   ]
  },
  {
   "cell_type": "code",
   "execution_count": 74,
   "metadata": {},
   "outputs": [],
   "source": [
    "def smartsort(x):\n",
    "    try:\n",
    "        return int(x.split(\".\")[0])\n",
    "    except:\n",
    "        return x.split(\".\")[0]"
   ]
  },
  {
   "cell_type": "code",
   "execution_count": 167,
   "metadata": {},
   "outputs": [],
   "source": [
    "def series_to_supervised(data, n_in=1, n_out=1, dropnan=True):\n",
    "    n_vars = 1 if type(data) is list else data.shape[1]\n",
    "    df = DataFrame(data)\n",
    "    cols, names = list(), list()\n",
    "    # input sequence (t-n, ... t-1)\n",
    "    for i in range(n_in, 0, -1):\n",
    "        cols.append(df.shift(i))\n",
    "        names += [('var%d(t-%d)' % (j+1, i)) for j in range(n_vars)]\n",
    "    # forecast sequence (t, t+1, ... t+n)\n",
    "    for i in range(0, n_out):\n",
    "        cols.append(df.shift(-i))\n",
    "        if i == 0:\n",
    "            names += [('var%d(t)' % (j+1)) for j in range(n_vars)]\n",
    "        else:\n",
    "            names += [('var%d(t+%d)' % (j+1, i)) for j in range(n_vars)]\n",
    "    # put it all together\n",
    "    agg = concat(cols, axis=1)\n",
    "    agg.columns = names\n",
    "    # drop rows with NaN values\n",
    "    if dropnan:\n",
    "        agg.dropna(inplace=True)\n",
    "    return agg"
   ]
  },
  {
   "cell_type": "code",
   "execution_count": 75,
   "metadata": {},
   "outputs": [
    {
     "ename": "TypeError",
     "evalue": "'<' not supported between instances of 'int' and 'str'",
     "output_type": "error",
     "traceback": [
      "\u001b[0;31m---------------------------------------------------------------------------\u001b[0m",
      "\u001b[0;31mTypeError\u001b[0m                                 Traceback (most recent call last)",
      "\u001b[0;32m<ipython-input-75-a9ff1888c7ce>\u001b[0m in \u001b[0;36m<module>\u001b[0;34m\u001b[0m\n\u001b[1;32m      1\u001b[0m \u001b[0mfiles\u001b[0m \u001b[0;34m=\u001b[0m \u001b[0mos\u001b[0m\u001b[0;34m.\u001b[0m\u001b[0mlistdir\u001b[0m\u001b[0;34m(\u001b[0m\u001b[0;34m\"../historic_data/csv/\"\u001b[0m\u001b[0;34m)\u001b[0m\u001b[0;34m\u001b[0m\u001b[0m\n\u001b[0;32m----> 2\u001b[0;31m \u001b[0mfiles\u001b[0m\u001b[0;34m.\u001b[0m\u001b[0msort\u001b[0m\u001b[0;34m(\u001b[0m\u001b[0mkey\u001b[0m\u001b[0;34m=\u001b[0m\u001b[0msmartsort\u001b[0m\u001b[0;34m)\u001b[0m\u001b[0;34m\u001b[0m\u001b[0m\n\u001b[0m",
      "\u001b[0;31mTypeError\u001b[0m: '<' not supported between instances of 'int' and 'str'"
     ]
    }
   ],
   "source": [
    "files = os.listdir(\"../historic_data/csv/\")\n",
    "files.sort(key=smartsort)"
   ]
  },
  {
   "cell_type": "code",
   "execution_count": 65,
   "metadata": {},
   "outputs": [
    {
     "data": {
      "text/plain": [
       "['0003.HK.csv',\n",
       " '0004.HK.csv',\n",
       " '0005.HK.csv',\n",
       " '0006.HK.csv',\n",
       " '0008.HK.csv',\n",
       " '001067.KS.csv',\n",
       " '0011.HK.csv',\n",
       " '0012.HK.csv',\n",
       " '0016.HK.csv',\n",
       " '0017.HK.csv',\n",
       " '0019.HK.csv',\n",
       " '0020.HK.csv',\n",
       " '0021.HK.csv',\n",
       " '0023.HK.csv',\n",
       " '0027.HK.csv',\n",
       " '0028.HK.csv',\n",
       " '0040.KL.csv',\n",
       " '0045.HK.csv',\n",
       " '0058.KL.csv',\n",
       " '0071.HK.csv']"
      ]
     },
     "execution_count": 65,
     "metadata": {},
     "output_type": "execute_result"
    }
   ],
   "source": [
    "files[:20]"
   ]
  },
  {
   "cell_type": "code",
   "execution_count": 111,
   "metadata": {},
   "outputs": [],
   "source": [
    "old = \"\"\n",
    "new = \"o\"\n",
    "new_files = []\n",
    "j=-1\n",
    "for i in range(0):\n",
    "    if i<j-1:\n",
    "        print(i)\n",
    "        continue\n",
    "    s = files[i].split(\".\")\n",
    "    try: \n",
    "        int(s[0])\n",
    "        print(s)\n",
    "    except:\n",
    "        0\n",
    "    new = s[1]\n",
    "    if len(s)>2 and old==new and s[0].isnumeric():\n",
    "\n",
    "        j=i+1\n",
    "        print(j)\n",
    "        new_s = new\n",
    "        while new_s == new:\n",
    "\n",
    "            new_s = files[j].split(\".\")[1]\n",
    "            j = j + 1\n",
    "            \n",
    "        print(j)\n",
    "        print(new_s)\n",
    "        print(new)\n",
    "        print(files[j])\n",
    "        new_files.append(files[j])        \n",
    "        old = new_s\n",
    "    else:\n",
    "        old = s[1]\n",
    "        new_files.append(files[i])"
   ]
  },
  {
   "cell_type": "code",
   "execution_count": 112,
   "metadata": {},
   "outputs": [],
   "source": [
    "old = \"\"\n",
    "new = \"o\"\n",
    "new_files = []\n",
    "j=-1\n",
    "for i in range(len(files)):\n",
    "    s = files[i].split(\".\")\n",
    "    try: \n",
    "        int(s[0])\n",
    "        #print(s)\n",
    "    except:\n",
    "        new_files.append(files[i])"
   ]
  },
  {
   "cell_type": "code",
   "execution_count": 106,
   "metadata": {},
   "outputs": [
    {
     "data": {
      "application/vnd.jupyter.widget-view+json": {
       "model_id": "b51e24ed68894990a70811f190742aad",
       "version_major": 2,
       "version_minor": 0
      },
      "text/plain": [
       "HBox(children=(FloatProgress(value=0.0), HTML(value='')))"
      ]
     },
     "metadata": {},
     "output_type": "display_data"
    },
    {
     "name": "stdout",
     "output_type": "stream",
     "text": [
      "\n"
     ]
    }
   ],
   "source": [
    "df = pd.DataFrame([])\n",
    "i = 0\n",
    "for i in tqdm(range(len(new_files[:100]))):\n",
    "    \n",
    "    a = pd.read_csv(\"../historic_data/csv/\" + new_files[i])\n",
    "    s = f.split(\".\")\n",
    "    a[\"stock_id\"] = i\n",
    "    if len(s)>2:\n",
    "        name = \"\"\n",
    "        for i in range(len(s)-2):\n",
    "            name = name + s[i] + \"_\"\n",
    "        name = name + s[-2]\n",
    "        a[\"stock\"] = name\n",
    "    else:\n",
    "        a[\"stock\"] = s[0]\n",
    "    \n",
    "    df = pd.concat([df,a])\n",
    "    "
   ]
  },
  {
   "cell_type": "code",
   "execution_count": 132,
   "metadata": {},
   "outputs": [],
   "source": [
    "df[\"unix_date\"] = df[\"Date\"].apply(unixdate)"
   ]
  },
  {
   "cell_type": "code",
   "execution_count": 164,
   "metadata": {},
   "outputs": [
    {
     "data": {
      "text/html": [
       "<div>\n",
       "<style scoped>\n",
       "    .dataframe tbody tr th:only-of-type {\n",
       "        vertical-align: middle;\n",
       "    }\n",
       "\n",
       "    .dataframe tbody tr th {\n",
       "        vertical-align: top;\n",
       "    }\n",
       "\n",
       "    .dataframe thead th {\n",
       "        text-align: right;\n",
       "    }\n",
       "</style>\n",
       "<table border=\"1\" class=\"dataframe\">\n",
       "  <thead>\n",
       "    <tr style=\"text-align: right;\">\n",
       "      <th></th>\n",
       "      <th>Date</th>\n",
       "      <th>Low</th>\n",
       "      <th>Open</th>\n",
       "      <th>Volume</th>\n",
       "      <th>High</th>\n",
       "      <th>Close</th>\n",
       "      <th>Adjusted Close</th>\n",
       "      <th>stock_id</th>\n",
       "      <th>stock</th>\n",
       "      <th>unix_date</th>\n",
       "    </tr>\n",
       "  </thead>\n",
       "  <tbody>\n",
       "    <tr>\n",
       "      <th>0</th>\n",
       "      <td>08-04-2013</td>\n",
       "      <td>9.726</td>\n",
       "      <td>9.726</td>\n",
       "      <td>0.0</td>\n",
       "      <td>9.726</td>\n",
       "      <td>9.726</td>\n",
       "      <td>0.097106</td>\n",
       "      <td>0</td>\n",
       "      <td>ASAZY</td>\n",
       "      <td>1.365372e+09</td>\n",
       "    </tr>\n",
       "    <tr>\n",
       "      <th>1</th>\n",
       "      <td>09-04-2013</td>\n",
       "      <td>9.552</td>\n",
       "      <td>9.552</td>\n",
       "      <td>0.0</td>\n",
       "      <td>9.552</td>\n",
       "      <td>9.552</td>\n",
       "      <td>0.095369</td>\n",
       "      <td>0</td>\n",
       "      <td>ASAZY</td>\n",
       "      <td>1.365458e+09</td>\n",
       "    </tr>\n",
       "    <tr>\n",
       "      <th>2</th>\n",
       "      <td>10-04-2013</td>\n",
       "      <td>9.820</td>\n",
       "      <td>9.820</td>\n",
       "      <td>0.0</td>\n",
       "      <td>9.820</td>\n",
       "      <td>9.820</td>\n",
       "      <td>0.098045</td>\n",
       "      <td>0</td>\n",
       "      <td>ASAZY</td>\n",
       "      <td>1.365545e+09</td>\n",
       "    </tr>\n",
       "    <tr>\n",
       "      <th>3</th>\n",
       "      <td>11-04-2013</td>\n",
       "      <td>9.682</td>\n",
       "      <td>9.682</td>\n",
       "      <td>0.0</td>\n",
       "      <td>9.682</td>\n",
       "      <td>9.682</td>\n",
       "      <td>0.096667</td>\n",
       "      <td>0</td>\n",
       "      <td>ASAZY</td>\n",
       "      <td>1.365631e+09</td>\n",
       "    </tr>\n",
       "    <tr>\n",
       "      <th>4</th>\n",
       "      <td>12-04-2013</td>\n",
       "      <td>9.887</td>\n",
       "      <td>9.887</td>\n",
       "      <td>500.0</td>\n",
       "      <td>10.225</td>\n",
       "      <td>10.225</td>\n",
       "      <td>0.102088</td>\n",
       "      <td>0</td>\n",
       "      <td>ASAZY</td>\n",
       "      <td>1.365718e+09</td>\n",
       "    </tr>\n",
       "  </tbody>\n",
       "</table>\n",
       "</div>"
      ],
      "text/plain": [
       "         Date    Low   Open  Volume    High   Close  Adjusted Close  stock_id  \\\n",
       "0  08-04-2013  9.726  9.726     0.0   9.726   9.726        0.097106         0   \n",
       "1  09-04-2013  9.552  9.552     0.0   9.552   9.552        0.095369         0   \n",
       "2  10-04-2013  9.820  9.820     0.0   9.820   9.820        0.098045         0   \n",
       "3  11-04-2013  9.682  9.682     0.0   9.682   9.682        0.096667         0   \n",
       "4  12-04-2013  9.887  9.887   500.0  10.225  10.225        0.102088         0   \n",
       "\n",
       "   stock     unix_date  \n",
       "0  ASAZY  1.365372e+09  \n",
       "1  ASAZY  1.365458e+09  \n",
       "2  ASAZY  1.365545e+09  \n",
       "3  ASAZY  1.365631e+09  \n",
       "4  ASAZY  1.365718e+09  "
      ]
     },
     "execution_count": 164,
     "metadata": {},
     "output_type": "execute_result"
    }
   ],
   "source": [
    "df.head()"
   ]
  },
  {
   "cell_type": "code",
   "execution_count": 176,
   "metadata": {},
   "outputs": [],
   "source": [
    "df[\"unix_date\"] = df[\"unix_date\"]/3600"
   ]
  },
  {
   "cell_type": "code",
   "execution_count": 177,
   "metadata": {},
   "outputs": [],
   "source": [
    "df[\"unix_date\"] = df[\"unix_date\"] - df[\"unix_date\"].min()"
   ]
  },
  {
   "cell_type": "code",
   "execution_count": 185,
   "metadata": {},
   "outputs": [],
   "source": [
    "days = df[\"unix_date\"].value_counts().keys()"
   ]
  },
  {
   "cell_type": "code",
   "execution_count": 184,
   "metadata": {},
   "outputs": [
    {
     "data": {
      "text/plain": [
       "14612"
      ]
     },
     "execution_count": 184,
     "metadata": {},
     "output_type": "execute_result"
    }
   ],
   "source": [
    "np.arange(0.0,df[\"unix_date\"].max(),24.0).shape[0]"
   ]
  },
  {
   "cell_type": "code",
   "execution_count": 178,
   "metadata": {},
   "outputs": [
    {
     "data": {
      "image/png": "[encoded data removed]",
      "text/plain": [
       "<Figure size 432x288 with 1 Axes>"
      ]
     },
     "metadata": {
      "needs_background": "light"
     },
     "output_type": "display_data"
    }
   ],
   "source": [
    "plt.hist(df[\"unix_date\"].values,bins=100);"
   ]
  },
  {
   "cell_type": "code",
   "execution_count": 163,
   "metadata": {},
   "outputs": [
    {
     "name": "stderr",
     "output_type": "stream",
     "text": [
      "/opt/anaconda3/envs/stocks/lib/python3.7/site-packages/ipykernel_launcher.py:7: RuntimeWarning: divide by zero encountered in true_divide\n",
      "  import sys\n",
      "/opt/anaconda3/envs/stocks/lib/python3.7/site-packages/ipykernel_launcher.py:7: RuntimeWarning: divide by zero encountered in true_divide\n",
      "  import sys\n"
     ]
    },
    {
     "data": {
      "text/plain": [
       "([<matplotlib.axis.XTick at 0x1214212b0>,\n",
       "  <matplotlib.axis.XTick at 0x1214219b0>,\n",
       "  <matplotlib.axis.XTick at 0x121421828>,\n",
       "  <matplotlib.axis.XTick at 0x1175a44a8>,\n",
       "  <matplotlib.axis.XTick at 0x1175a42e8>,\n",
       "  <matplotlib.axis.XTick at 0x1175a4438>,\n",
       "  <matplotlib.axis.XTick at 0x1175c82b0>,\n",
       "  <matplotlib.axis.XTick at 0x1175c8160>,\n",
       "  <matplotlib.axis.XTick at 0x1175c81d0>,\n",
       "  <matplotlib.axis.XTick at 0x117583f28>],\n",
       " [Text(0, 0, '17-03-1980'),\n",
       "  Text(0, 0, '27-08-1984'),\n",
       "  Text(0, 0, '06-02-1989'),\n",
       "  Text(0, 0, '18-07-1993'),\n",
       "  Text(0, 0, '28-12-1997'),\n",
       "  Text(0, 0, '08-06-2002'),\n",
       "  Text(0, 0, '18-11-2006'),\n",
       "  Text(0, 0, '29-04-2011'),\n",
       "  Text(0, 0, '09-10-2015'),\n",
       "  Text(0, 0, '19-03-2020')])"
      ]
     },
     "execution_count": 163,
     "metadata": {},
     "output_type": "execute_result"
    },
    {
     "data": {
      "image/png": "[encoded data removed]",
      "text/plain": [
       "<Figure size 1080x720 with 1 Axes>"
      ]
     },
     "metadata": {
      "needs_background": "light"
     },
     "output_type": "display_data"
    }
   ],
   "source": [
    "fig = plt.figure(figsize=(15,10))\n",
    "ax = fig.gca()\n",
    "for f in df[\"stock_id\"].value_counts().keys():\n",
    "    cut = df[\"stock_id\"]==f\n",
    "    X = df[cut][\"unix_date\"].values\n",
    "    \n",
    "    Y = df[cut][\"Close\"].values/df[cut][\"Open\"].values\n",
    "    plt.plot(X,Y,\"o\")\n",
    "  \n",
    "T = np.linspace(df[\"unix_date\"].min(),df[\"unix_date\"].max(),10)\n",
    "plt.yscale(\"log\")\n",
    "plt.xticks(T,np.vectorize(normaldate)(T))"
   ]
  },
  {
   "cell_type": "code",
   "execution_count": null,
   "metadata": {},
   "outputs": [],
   "source": [
    "good_cols = df[\"unix_date\"]"
   ]
  },
  {
   "cell_type": "code",
   "execution_count": 159,
   "metadata": {},
   "outputs": [
    {
     "ename": "TypeError",
     "evalue": "'map' object is not subscriptable",
     "output_type": "error",
     "traceback": [
      "\u001b[0;31m---------------------------------------------------------------------------\u001b[0m",
      "\u001b[0;31mTypeError\u001b[0m                                 Traceback (most recent call last)",
      "\u001b[0;32m<ipython-input-159-6cc8622e42cd>\u001b[0m in \u001b[0;36m<module>\u001b[0;34m\u001b[0m\n\u001b[0;32m----> 1\u001b[0;31m \u001b[0mmap\u001b[0m\u001b[0;34m(\u001b[0m\u001b[0mnormaldate\u001b[0m\u001b[0;34m,\u001b[0m\u001b[0mT\u001b[0m\u001b[0;34m)\u001b[0m\u001b[0;34m[\u001b[0m\u001b[0;36m0\u001b[0m\u001b[0;34m]\u001b[0m\u001b[0;34m\u001b[0m\u001b[0m\n\u001b[0m",
      "\u001b[0;31mTypeError\u001b[0m: 'map' object is not subscriptable"
     ]
    }
   ],
   "source": [
    "map(normaldate,T)"
   ]
  },
  {
   "cell_type": "code",
   "execution_count": 82,
   "metadata": {},
   "outputs": [
    {
     "data": {
      "text/plain": [
       "3441"
      ]
     },
     "execution_count": 82,
     "metadata": {},
     "output_type": "execute_result"
    }
   ],
   "source": [
    "len(a)"
   ]
  },
  {
   "cell_type": "code",
   "execution_count": 83,
   "metadata": {},
   "outputs": [
    {
     "data": {
      "text/html": [
       "<div>\n",
       "<style scoped>\n",
       "    .dataframe tbody tr th:only-of-type {\n",
       "        vertical-align: middle;\n",
       "    }\n",
       "\n",
       "    .dataframe tbody tr th {\n",
       "        vertical-align: top;\n",
       "    }\n",
       "\n",
       "    .dataframe thead th {\n",
       "        text-align: right;\n",
       "    }\n",
       "</style>\n",
       "<table border=\"1\" class=\"dataframe\">\n",
       "  <thead>\n",
       "    <tr style=\"text-align: right;\">\n",
       "      <th></th>\n",
       "      <th>Date</th>\n",
       "      <th>Low</th>\n",
       "      <th>Open</th>\n",
       "      <th>Volume</th>\n",
       "      <th>High</th>\n",
       "      <th>Close</th>\n",
       "      <th>Adjusted Close</th>\n",
       "    </tr>\n",
       "  </thead>\n",
       "  <tbody>\n",
       "    <tr>\n",
       "      <th>0</th>\n",
       "      <td>20-07-2006</td>\n",
       "      <td>50.328461</td>\n",
       "      <td>50.328461</td>\n",
       "      <td>0</td>\n",
       "      <td>50.328461</td>\n",
       "      <td>50.328461</td>\n",
       "      <td>26.556471</td>\n",
       "    </tr>\n",
       "    <tr>\n",
       "      <th>1</th>\n",
       "      <td>21-07-2006</td>\n",
       "      <td>49.586777</td>\n",
       "      <td>49.586777</td>\n",
       "      <td>0</td>\n",
       "      <td>49.586777</td>\n",
       "      <td>49.586777</td>\n",
       "      <td>26.165108</td>\n",
       "    </tr>\n",
       "    <tr>\n",
       "      <th>2</th>\n",
       "      <td>24-07-2006</td>\n",
       "      <td>49.586777</td>\n",
       "      <td>49.586777</td>\n",
       "      <td>0</td>\n",
       "      <td>49.586777</td>\n",
       "      <td>49.586777</td>\n",
       "      <td>26.165108</td>\n",
       "    </tr>\n",
       "    <tr>\n",
       "      <th>3</th>\n",
       "      <td>25-07-2006</td>\n",
       "      <td>50.593346</td>\n",
       "      <td>50.593346</td>\n",
       "      <td>300</td>\n",
       "      <td>50.593346</td>\n",
       "      <td>50.593346</td>\n",
       "      <td>26.696234</td>\n",
       "    </tr>\n",
       "    <tr>\n",
       "      <th>4</th>\n",
       "      <td>26-07-2006</td>\n",
       "      <td>50.593346</td>\n",
       "      <td>50.593346</td>\n",
       "      <td>0</td>\n",
       "      <td>50.593346</td>\n",
       "      <td>50.593346</td>\n",
       "      <td>26.696234</td>\n",
       "    </tr>\n",
       "  </tbody>\n",
       "</table>\n",
       "</div>"
      ],
      "text/plain": [
       "         Date        Low       Open  Volume       High      Close  \\\n",
       "0  20-07-2006  50.328461  50.328461       0  50.328461  50.328461   \n",
       "1  21-07-2006  49.586777  49.586777       0  49.586777  49.586777   \n",
       "2  24-07-2006  49.586777  49.586777       0  49.586777  49.586777   \n",
       "3  25-07-2006  50.593346  50.593346     300  50.593346  50.593346   \n",
       "4  26-07-2006  50.593346  50.593346       0  50.593346  50.593346   \n",
       "\n",
       "   Adjusted Close  \n",
       "0       26.556471  \n",
       "1       26.165108  \n",
       "2       26.165108  \n",
       "3       26.696234  \n",
       "4       26.696234  "
      ]
     },
     "execution_count": 83,
     "metadata": {},
     "output_type": "execute_result"
    }
   ],
   "source": [
    "a.head()"
   ]
  },
  {
   "cell_type": "code",
   "execution_count": null,
   "metadata": {},
   "outputs": [],
   "source": []
  }
 ],
 "metadata": {
  "kernelspec": {
   "display_name": "Python 3",
   "language": "python",
   "name": "python3"
  },
  "language_info": {
   "codemirror_mode": {
    "name": "ipython",
    "version": 3
   },
   "file_extension": ".py",
   "mimetype": "text/x-python",
   "name": "python",
   "nbconvert_exporter": "python",
   "pygments_lexer": "ipython3",
   "version": "3.7.0"
  }
 },
 "nbformat": 4,
 "nbformat_minor": 4
}
