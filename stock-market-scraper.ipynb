{
 "cells": [
  {
   "cell_type": "markdown",
   "metadata": {},
   "source": [
    "![](https://lh3.googleusercontent.com/qbqjDFiK6wInTH4KrDaNIxbvng1XMs2F7Cv_DbzZcm-ljDA0Ikyp9y4HxOLIhp2r_ks=s180-rw?v=0.1?raw=true)\n",
    "![](https://img-d02.moneycontrol.co.in/images/common/header/logo.png?v=0.1?raw=true)"
   ]
  },
  {
   "cell_type": "markdown",
   "metadata": {},
   "source": [
    "# Moneycontrol scraping\n",
    "### First we need to scrape all the companies under Indian Market"
   ]
  },
  {
   "cell_type": "code",
   "execution_count": 7,
   "metadata": {},
   "outputs": [],
   "source": [
    "from IPython.display import display, HTML\n",
    "from multiprocessing.dummy import Pool\n",
    "from bs4 import BeautifulSoup\n",
    "import pandas as pd\n",
    "import requests"
   ]
  },
  {
   "cell_type": "markdown",
   "metadata": {},
   "source": [
    "#### The function which scraps links like:\n",
    "\n",
    "https://www.moneycontrol.com/india/stockpricequote/A  \n",
    "https://www.moneycontrol.com/india/stockpricequote/B  \n",
    ".\n",
    ".\n",
    ".  \n",
    "https://www.moneycontrol.com/india/stockpricequote/Z  \n",
    "https://www.moneycontrol.com/india/stockpricequote/others"
   ]
  },
  {
   "cell_type": "code",
   "execution_count": 8,
   "metadata": {},
   "outputs": [],
   "source": [
    "company_list=[]\n",
    "def get_company_list(url):    \n",
    "    page_response = requests.get(url, timeout=5)\n",
    "    soup = BeautifulSoup(page_response.content,\"lxml\")\n",
    "    companies = soup.findAll(\"a\", attrs={\"class\":\"bl_12\"})\n",
    "    for company in companies:\n",
    "        if \"moneycontrol\" in company[\"href\"]:\n",
    "            company_list.append([company.text,company[\"href\"]])"
   ]
  },
  {
   "cell_type": "markdown",
   "metadata": {},
   "source": [
    "#### This generates all links and sends to the function through multithreading"
   ]
  },
  {
   "cell_type": "code",
   "execution_count": 9,
   "metadata": {
    "scrolled": true
   },
   "outputs": [],
   "source": [
    "urls=[]\n",
    "incomplete_url=\"https://www.moneycontrol.com/india/stockpricequote/\"\n",
    "for i in range (ord(\"A\"),ord(\"Z\")+1):\n",
    "    urls.append(incomplete_url+chr(i))\n",
    "urls.append((incomplete_url+\"others\"))\n",
    "with Pool(processes=27) as pool:\n",
    "    (pool.map(get_company_list, urls))\n",
    "df =  pd.DataFrame(company_list)\n",
    "df.columns = ['Company Names', 'Company Links']\n",
    "df.to_csv('company_list.csv', sep=',', header=None, index=None)"
   ]
  },
  {
   "cell_type": "markdown",
   "metadata": {},
   "source": [
    "#### This is the table (only part of it)"
   ]
  },
  {
   "cell_type": "code",
   "execution_count": 10,
   "metadata": {},
   "outputs": [
    {
     "name": "stdout",
     "output_type": "stream",
     "text": [
      "Dataframe 1:\n"
     ]
    },
    {
     "data": {
      "text/html": [
       "<div>\n",
       "<style scoped>\n",
       "    .dataframe tbody tr th:only-of-type {\n",
       "        vertical-align: middle;\n",
       "    }\n",
       "\n",
       "    .dataframe tbody tr th {\n",
       "        vertical-align: top;\n",
       "    }\n",
       "\n",
       "    .dataframe thead th {\n",
       "        text-align: right;\n",
       "    }\n",
       "</style>\n",
       "<table border=\"1\" class=\"dataframe\">\n",
       "  <thead>\n",
       "    <tr style=\"text-align: right;\">\n",
       "      <th></th>\n",
       "      <th>Company Names</th>\n",
       "      <th>Company Links</th>\n",
       "    </tr>\n",
       "  </thead>\n",
       "  <tbody>\n",
       "    <tr>\n",
       "      <th>0</th>\n",
       "      <td>Quadrant Tele</td>\n",
       "      <td>http://www.moneycontrol.com/india/stockpricequ...</td>\n",
       "    </tr>\n",
       "    <tr>\n",
       "      <th>1</th>\n",
       "      <td>Qualitron Compo</td>\n",
       "      <td>http://www.moneycontrol.com/india/stockpricequ...</td>\n",
       "    </tr>\n",
       "    <tr>\n",
       "      <th>2</th>\n",
       "      <td>Quality Pharma</td>\n",
       "      <td>http://www.moneycontrol.com/india/stockpricequ...</td>\n",
       "    </tr>\n",
       "    <tr>\n",
       "      <th>3</th>\n",
       "      <td>Quality Steel</td>\n",
       "      <td>http://www.moneycontrol.com/india/stockpricequ...</td>\n",
       "    </tr>\n",
       "    <tr>\n",
       "      <th>4</th>\n",
       "      <td>Quantum Build</td>\n",
       "      <td>http://www.moneycontrol.com/india/stockpricequ...</td>\n",
       "    </tr>\n",
       "    <tr>\n",
       "      <th>5</th>\n",
       "      <td>Quantum Digital</td>\n",
       "      <td>http://www.moneycontrol.com/india/stockpricequ...</td>\n",
       "    </tr>\n",
       "    <tr>\n",
       "      <th>6</th>\n",
       "      <td>Quantum Gold</td>\n",
       "      <td>http://www.moneycontrol.com/india/stockpricequ...</td>\n",
       "    </tr>\n",
       "    <tr>\n",
       "      <th>7</th>\n",
       "      <td>Quantum Index</td>\n",
       "      <td>http://www.moneycontrol.com/india/stockpricequ...</td>\n",
       "    </tr>\n",
       "    <tr>\n",
       "      <th>8</th>\n",
       "      <td>Quantum Softech</td>\n",
       "      <td>http://www.moneycontrol.com/india/stockpricequ...</td>\n",
       "    </tr>\n",
       "    <tr>\n",
       "      <th>9</th>\n",
       "      <td>Quasar India</td>\n",
       "      <td>http://www.moneycontrol.com/india/stockpricequ...</td>\n",
       "    </tr>\n",
       "  </tbody>\n",
       "</table>\n",
       "</div>"
      ],
      "text/plain": [
       "     Company Names                                      Company Links\n",
       "0    Quadrant Tele  http://www.moneycontrol.com/india/stockpricequ...\n",
       "1  Qualitron Compo  http://www.moneycontrol.com/india/stockpricequ...\n",
       "2   Quality Pharma  http://www.moneycontrol.com/india/stockpricequ...\n",
       "3    Quality Steel  http://www.moneycontrol.com/india/stockpricequ...\n",
       "4    Quantum Build  http://www.moneycontrol.com/india/stockpricequ...\n",
       "5  Quantum Digital  http://www.moneycontrol.com/india/stockpricequ...\n",
       "6     Quantum Gold  http://www.moneycontrol.com/india/stockpricequ...\n",
       "7    Quantum Index  http://www.moneycontrol.com/india/stockpricequ...\n",
       "8  Quantum Softech  http://www.moneycontrol.com/india/stockpricequ...\n",
       "9     Quasar India  http://www.moneycontrol.com/india/stockpricequ..."
      ]
     },
     "execution_count": 10,
     "metadata": {},
     "output_type": "execute_result"
    }
   ],
   "source": [
    "print (\"Dataframe 1:\")\n",
    "df[:10]"
   ]
  },
  {
   "cell_type": "markdown",
   "metadata": {},
   "source": [
    "#### Now get a perticular company and get the link to that Stock Website"
   ]
  },
  {
   "cell_type": "code",
   "execution_count": 11,
   "metadata": {},
   "outputs": [
    {
     "name": "stdout",
     "output_type": "stream",
     "text": [
      "The link: http://www.moneycontrol.com/india/stockpricequote/electricequipment/igarashimotors/IM01\n"
     ]
    }
   ],
   "source": [
    "company_name_given_by_user = \"igarashi motors\"\n",
    "company_link=df[df[\"Company Names\"].str.contains(company_name_given_by_user, case=False)][\"Company Links\"].iloc[0]\n",
    "print(\"The link: \"+company_link)"
   ]
  },
  {
   "cell_type": "code",
   "execution_count": 12,
   "metadata": {},
   "outputs": [
    {
     "ename": "NameError",
     "evalue": "name 'span' is not defined",
     "output_type": "error",
     "traceback": [
      "\u001b[1;31m---------------------------------------------------------------------------\u001b[0m",
      "\u001b[1;31mNameError\u001b[0m                                 Traceback (most recent call last)",
      "\u001b[1;32m<ipython-input-12-e50f76696e74>\u001b[0m in \u001b[0;36m<module>\u001b[1;34m\u001b[0m\n\u001b[0;32m      3\u001b[0m \u001b[0mcompanies\u001b[0m \u001b[1;33m=\u001b[0m \u001b[0msoup\u001b[0m\u001b[1;33m.\u001b[0m\u001b[0mfindAll\u001b[0m\u001b[1;33m(\u001b[0m\u001b[1;34m\"span\"\u001b[0m\u001b[1;33m,\u001b[0m \u001b[0mattrs\u001b[0m\u001b[1;33m=\u001b[0m\u001b[1;33m{\u001b[0m\u001b[1;34m\"id\"\u001b[0m\u001b[1;33m:\u001b[0m\u001b[1;34m\"Bse_Prc_tick\"\u001b[0m\u001b[1;33m}\u001b[0m\u001b[1;33m)\u001b[0m\u001b[1;33m\u001b[0m\u001b[1;33m\u001b[0m\u001b[0m\n\u001b[0;32m      4\u001b[0m \u001b[1;31m# <div id=\"Bse_Prc_tick_div\" class=\"FL PR5 gD_30\"><span id=\"Bse_Prc_tick\"><strong>180.90</strong></span></div>\u001b[0m\u001b[1;33m\u001b[0m\u001b[1;33m\u001b[0m\u001b[1;33m\u001b[0m\u001b[0m\n\u001b[1;32m----> 5\u001b[1;33m \u001b[0mprint\u001b[0m\u001b[1;33m(\u001b[0m\u001b[0mspan\u001b[0m\u001b[1;33m)\u001b[0m\u001b[1;33m\u001b[0m\u001b[1;33m\u001b[0m\u001b[0m\n\u001b[0m\u001b[0;32m      6\u001b[0m \u001b[1;31m# for company in companies:\u001b[0m\u001b[1;33m\u001b[0m\u001b[1;33m\u001b[0m\u001b[1;33m\u001b[0m\u001b[0m\n\u001b[0;32m      7\u001b[0m \u001b[1;31m#     if \"moneycontrol\" in company[\"href\"]:\u001b[0m\u001b[1;33m\u001b[0m\u001b[1;33m\u001b[0m\u001b[1;33m\u001b[0m\u001b[0m\n",
      "\u001b[1;31mNameError\u001b[0m: name 'span' is not defined"
     ]
    }
   ],
   "source": [
    "page_response = requests.get(company_link, timeout=5)\n",
    "soup = BeautifulSoup(page_response.content,\"lxml\")\n",
    "companies = soup.findAll(\"span\", attrs={\"id\":\"Bse_Prc_tick\"})\n",
    "# <div id=\"Bse_Prc_tick_div\" class=\"FL PR5 gD_30\"><span id=\"Bse_Prc_tick\"><strong>180.90</strong></span></div>\n",
    "# print(span)\n",
    "# for company in companies:\n",
    "#     if \"moneycontrol\" in company[\"href\"]:\n",
    "#         company_list.append([company.text,company[\"href\"]])"
   ]
  }
 ],
 "metadata": {
  "kernelspec": {
   "display_name": "Python 3",
   "language": "python",
   "name": "python3"
  }
 },
 "nbformat": 4,
 "nbformat_minor": 2
}
