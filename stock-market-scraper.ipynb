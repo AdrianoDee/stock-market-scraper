{
 "cells": [
  {
   "cell_type": "markdown",
   "metadata": {},
   "source": [
    "![](https://img-d02.moneycontrol.co.in/images/common/header/logo.png?v=0.1?raw=true)"
   ]
  },
  {
   "cell_type": "markdown",
   "metadata": {},
   "source": [
    "## Moneycontrol scraping\n",
    "#### First we need to scrape all the companies under Indian Market"
   ]
  },
  {
   "cell_type": "code",
   "execution_count": 1,
   "metadata": {},
   "outputs": [],
   "source": [
    "from multiprocessing.dummy import Pool\n",
    "from bs4 import BeautifulSoup\n",
    "import requests\n",
    "import pandas as pd"
   ]
  },
  {
   "cell_type": "markdown",
   "metadata": {},
   "source": [
    "#### The function which scraps links like:\n",
    "    - https://www.moneycontrol.com/india/stockpricequote/A\n",
    "    - https://www.moneycontrol.com/india/stockpricequote/B\n",
    "    - so on...\n",
    "    - https://www.moneycontrol.com/india/stockpricequote/Z\n",
    "    - https://www.moneycontrol.com/india/stockpricequote/others"
   ]
  },
  {
   "cell_type": "code",
   "execution_count": 2,
   "metadata": {},
   "outputs": [],
   "source": [
    "company_list=[]\n",
    "def get_company_list(url):    \n",
    "    page_response = requests.get(url, timeout=5)\n",
    "    soup = BeautifulSoup(page_response.content,\"lxml\")\n",
    "    companies = soup.findAll(\"a\", attrs={\"class\":\"bl_12\"})\n",
    "    for company in companies:\n",
    "        if \"moneycontrol\" in company[\"href\"]:\n",
    "            company_list.append([company.text,company[\"href\"]])"
   ]
  },
  {
   "cell_type": "markdown",
   "metadata": {},
   "source": [
    "#### This generates all links and sends to the function through multithreading"
   ]
  },
  {
   "cell_type": "code",
   "execution_count": 3,
   "metadata": {
    "scrolled": true
   },
   "outputs": [],
   "source": [
    "urls=[]\n",
    "incomplete_url=\"https://www.moneycontrol.com/india/stockpricequote/\"\n",
    "for i in range (ord(\"A\"),ord(\"Z\")+1):\n",
    "    urls.append(incomplete_url+chr(i))\n",
    "urls.append((incomplete_url+\"others\"))\n",
    "with Pool() as pool:\n",
    "    (pool.map(get_company_list, urls))\n",
    "df =  pd.DataFrame(company_list)\n",
    "df.to_csv('company_list.csv', sep=',', header=None, index=None)"
   ]
  }
 ],
 "metadata": {
  "kernelspec": {
   "display_name": "Python 3",
   "language": "python",
   "name": "python3"
  },
  "language_info": {
   "codemirror_mode": {
    "name": "ipython",
    "version": 3
   },
   "file_extension": ".py",
   "mimetype": "text/x-python",
   "name": "python",
   "nbconvert_exporter": "python",
   "pygments_lexer": "ipython3",
   "version": "3.6.8"
  }
 },
 "nbformat": 4,
 "nbformat_minor": 2
}
