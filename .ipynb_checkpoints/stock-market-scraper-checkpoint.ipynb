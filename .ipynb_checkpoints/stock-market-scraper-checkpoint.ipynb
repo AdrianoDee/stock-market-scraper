{
 "cells": [
  {
   "cell_type": "markdown",
   "metadata": {},
   "source": [
    "![](https://lh3.googleusercontent.com/qbqjDFiK6wInTH4KrDaNIxbvng1XMs2F7Cv_DbzZcm-ljDA0Ikyp9y4HxOLIhp2r_ks=s180-rw?v=0.1?raw=true)\n",
    "![](https://img-d02.moneycontrol.co.in/images/common/header/logo.png?v=0.1?raw=true)"
   ]
  },
  {
   "cell_type": "markdown",
   "metadata": {},
   "source": [
    "# Moneycontrol scraping\n",
    "### First we need to scrape all the companies under Indian Market"
   ]
  },
  {
   "cell_type": "code",
   "execution_count": 1,
   "metadata": {},
   "outputs": [],
   "source": [
    "from IPython.display import display, HTML\n",
    "from multiprocessing.dummy import Pool\n",
    "from bs4 import BeautifulSoup\n",
    "import pandas as pd\n",
    "import requests"
   ]
  },
  {
   "cell_type": "markdown",
   "metadata": {},
   "source": [
    "#### The function which scraps links like:\n",
    "\n",
    "https://www.moneycontrol.com/india/stockpricequote/A  \n",
    "https://www.moneycontrol.com/india/stockpricequote/B  \n",
    ".\n",
    ".\n",
    ".  \n",
    "https://www.moneycontrol.com/india/stockpricequote/Z  \n",
    "https://www.moneycontrol.com/india/stockpricequote/others"
   ]
  },
  {
   "cell_type": "code",
   "execution_count": 2,
   "metadata": {},
   "outputs": [],
   "source": [
    "company_list=[]\n",
    "def get_company_list(url):    \n",
    "    page_response = requests.get(url, timeout=5)\n",
    "    soup = BeautifulSoup(page_response.content,\"lxml\")\n",
    "    companies = soup.findAll(\"a\", attrs={\"class\":\"bl_12\"})\n",
    "    for company in companies:\n",
    "        if \"moneycontrol\" in company[\"href\"]:\n",
    "            company_list.append([company.text,company[\"href\"]])"
   ]
  },
  {
   "cell_type": "markdown",
   "metadata": {},
   "source": [
    "#### This generates all links and sends to the function through multithreading"
   ]
  },
  {
   "cell_type": "code",
   "execution_count": 3,
   "metadata": {
    "scrolled": true
   },
   "outputs": [],
   "source": [
    "urls=[]\n",
    "incomplete_url=\"https://www.moneycontrol.com/india/stockpricequote/\"\n",
    "for i in range (ord(\"A\"),ord(\"Z\")+1):\n",
    "    urls.append(incomplete_url+chr(i))\n",
    "urls.append((incomplete_url+\"others\"))\n",
    "with Pool(processes=27) as pool:\n",
    "    (pool.map(get_company_list, urls))\n",
    "df =  pd.DataFrame(company_list)\n",
    "df.columns = ['Company Names', 'Company Links']\n",
    "df.to_csv('company_list.csv', sep=',', header=None, index=None)"
   ]
  },
  {
   "cell_type": "markdown",
   "metadata": {},
   "source": [
    "#### This is the table (only part of it)"
   ]
  },
  {
   "cell_type": "code",
   "execution_count": 4,
   "metadata": {},
   "outputs": [
    {
     "name": "stdout",
     "output_type": "stream",
     "text": [
      "Dataframe 1:\n"
     ]
    },
    {
     "data": {
      "text/html": [
       "<div>\n",
       "<style scoped>\n",
       "    .dataframe tbody tr th:only-of-type {\n",
       "        vertical-align: middle;\n",
       "    }\n",
       "\n",
       "    .dataframe tbody tr th {\n",
       "        vertical-align: top;\n",
       "    }\n",
       "\n",
       "    .dataframe thead th {\n",
       "        text-align: right;\n",
       "    }\n",
       "</style>\n",
       "<table border=\"1\" class=\"dataframe\">\n",
       "  <thead>\n",
       "    <tr style=\"text-align: right;\">\n",
       "      <th></th>\n",
       "      <th>Company Names</th>\n",
       "      <th>Company Links</th>\n",
       "    </tr>\n",
       "  </thead>\n",
       "  <tbody>\n",
       "    <tr>\n",
       "      <th>0</th>\n",
       "      <td>A &amp; M Febcon</td>\n",
       "      <td>http://www.moneycontrol.com/india/stockpricequ...</td>\n",
       "    </tr>\n",
       "    <tr>\n",
       "      <th>1</th>\n",
       "      <td>A and M Jumbo B</td>\n",
       "      <td>http://www.moneycontrol.com/india/stockpricequ...</td>\n",
       "    </tr>\n",
       "    <tr>\n",
       "      <th>2</th>\n",
       "      <td>A F Ent</td>\n",
       "      <td>http://www.moneycontrol.com/india/stockpricequ...</td>\n",
       "    </tr>\n",
       "    <tr>\n",
       "      <th>3</th>\n",
       "      <td>A Infra.</td>\n",
       "      <td>http://www.moneycontrol.com/india/stockpricequ...</td>\n",
       "    </tr>\n",
       "    <tr>\n",
       "      <th>4</th>\n",
       "      <td>A K S Credits</td>\n",
       "      <td>http://www.moneycontrol.com/india/stockpricequ...</td>\n",
       "    </tr>\n",
       "    <tr>\n",
       "      <th>5</th>\n",
       "      <td>A K Spintex</td>\n",
       "      <td>http://www.moneycontrol.com/india/stockpricequ...</td>\n",
       "    </tr>\n",
       "    <tr>\n",
       "      <th>6</th>\n",
       "      <td>A P T Yarns</td>\n",
       "      <td>http://www.moneycontrol.com/india/stockpricequ...</td>\n",
       "    </tr>\n",
       "    <tr>\n",
       "      <th>7</th>\n",
       "      <td>A.K.Capital Ser</td>\n",
       "      <td>http://www.moneycontrol.com/india/stockpricequ...</td>\n",
       "    </tr>\n",
       "    <tr>\n",
       "      <th>8</th>\n",
       "      <td>A2Z Infra Eng</td>\n",
       "      <td>http://www.moneycontrol.com/india/stockpricequ...</td>\n",
       "    </tr>\n",
       "    <tr>\n",
       "      <th>9</th>\n",
       "      <td>Aachal Alloys</td>\n",
       "      <td>http://www.moneycontrol.com/india/stockpricequ...</td>\n",
       "    </tr>\n",
       "  </tbody>\n",
       "</table>\n",
       "</div>"
      ],
      "text/plain": [
       "     Company Names                                      Company Links\n",
       "0     A & M Febcon  http://www.moneycontrol.com/india/stockpricequ...\n",
       "1  A and M Jumbo B  http://www.moneycontrol.com/india/stockpricequ...\n",
       "2          A F Ent  http://www.moneycontrol.com/india/stockpricequ...\n",
       "3         A Infra.  http://www.moneycontrol.com/india/stockpricequ...\n",
       "4    A K S Credits  http://www.moneycontrol.com/india/stockpricequ...\n",
       "5      A K Spintex  http://www.moneycontrol.com/india/stockpricequ...\n",
       "6      A P T Yarns  http://www.moneycontrol.com/india/stockpricequ...\n",
       "7  A.K.Capital Ser  http://www.moneycontrol.com/india/stockpricequ...\n",
       "8    A2Z Infra Eng  http://www.moneycontrol.com/india/stockpricequ...\n",
       "9    Aachal Alloys  http://www.moneycontrol.com/india/stockpricequ..."
      ]
     },
     "execution_count": 4,
     "metadata": {},
     "output_type": "execute_result"
    }
   ],
   "source": [
    "print (\"Dataframe 1:\")\n",
    "df[:10]"
   ]
  },
  {
   "cell_type": "markdown",
   "metadata": {},
   "source": [
    "#### Now get a perticular company and get the link to that Stock Website"
   ]
  },
  {
   "cell_type": "code",
   "execution_count": 5,
   "metadata": {},
   "outputs": [
    {
     "name": "stdout",
     "output_type": "stream",
     "text": [
      "The link: http://www.moneycontrol.com/india/stockpricequote/electricequipment/igarashimotors/IM01\n"
     ]
    }
   ],
   "source": [
    "company_name_given_by_user = \"igarashi motors\"\n",
    "company_link=df[df[\"Company Names\"].str.contains(company_name_given_by_user, case=False)][\"Company Links\"].iloc[0]\n",
    "print(\"The link: \"+company_link)"
   ]
  },
  {
   "cell_type": "markdown",
   "metadata": {},
   "source": [
    "### Now get live BSE, NSE data from the user given website"
   ]
  },
  {
   "cell_type": "code",
   "execution_count": 8,
   "metadata": {},
   "outputs": [],
   "source": [
    "page_response = requests.get(company_link, timeout=5)\n",
    "soup = BeautifulSoup(page_response.content,\"lxml\")"
   ]
  },
  {
   "cell_type": "markdown",
   "metadata": {},
   "source": [
    "#### Get BSE data"
   ]
  },
  {
   "cell_type": "code",
   "execution_count": 10,
   "metadata": {},
   "outputs": [
    {
     "name": "stdout",
     "output_type": "stream",
     "text": [
      "Live BSE: 180.90 | BSE change:  2.40  | BSE change percentage: +1.34%\n"
     ]
    }
   ],
   "source": [
    "bse_live = soup.findAll(\"span\", attrs={\"id\":\"Bse_Prc_tick\"})[0].text\n",
    "bse_change = soup.findAll(\"div\", attrs={\"id\":\"b_changetext\"})[0].text\n",
    "bse_change_volume = bse_change.split(\"(\")[0]\n",
    "bse_change_percentage = bse_change.split(\"(\")[1].split(\")\")[0]\n",
    "print(\"Live BSE: \"+bse_live+\" | BSE change: \"+bse_change_volume+\" | BSE change percentage: \"+bse_change_percentage)"
   ]
  },
  {
   "cell_type": "markdown",
   "metadata": {},
   "source": [
    "#### Get NSE data"
   ]
  },
  {
   "cell_type": "code",
   "execution_count": 11,
   "metadata": {},
   "outputs": [
    {
     "name": "stdout",
     "output_type": "stream",
     "text": [
      "Live NSE: 183.30 | NSE change:  5.30  | NSE change percentage: +2.98%\n"
     ]
    }
   ],
   "source": [
    "nse_live = soup.findAll(\"span\", attrs={\"id\":\"Nse_Prc_tick\"})[0].text\n",
    "nse_change = soup.findAll(\"div\", attrs={\"id\":\"n_changetext\"})[0].text\n",
    "nse_change_volume = nse_change.split(\"(\")[0]\n",
    "nse_change_percentage = nse_change.split(\"(\")[1].split(\")\")[0]\n",
    "print(\"Live NSE: \"+nse_live+\" | NSE change: \"+nse_change_volume+\" | NSE change percentage: \"+nse_change_percentage)"
   ]
  }
 ],
 "metadata": {
  "kernelspec": {
   "display_name": "Python 3",
   "language": "python",
   "name": "python3"
  },
  "language_info": {
   "codemirror_mode": {
    "name": "ipython",
    "version": 3
   },
   "file_extension": ".py",
   "mimetype": "text/x-python",
   "name": "python",
   "nbconvert_exporter": "python",
   "pygments_lexer": "ipython3",
   "version": "3.6.8"
  }
 },
 "nbformat": 4,
 "nbformat_minor": 2
}
